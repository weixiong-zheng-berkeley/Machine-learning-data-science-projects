{
 "cells": [
  {
   "cell_type": "markdown",
   "metadata": {},
   "source": [
    "# Support Vector Machine (SVM) on the same case"
   ]
  },
  {
   "cell_type": "markdown",
   "metadata": {},
   "source": [
    "## 1. Still import data and libraries"
   ]
  },
  {
   "cell_type": "code",
   "execution_count": 45,
   "metadata": {
    "collapsed": true
   },
   "outputs": [],
   "source": [
    "import numpy as np\n",
    "from sklearn.model_selection import train_test_split as tts\n",
    "# datasets\n",
    "import sklearn.datasets as ds\n",
    "# preprocessing modules\n",
    "from sklearn.preprocessing import StandardScaler as sc\n",
    "# SVM\n",
    "from sklearn.svm import SVC\n",
    "# Matplotlib\n",
    "import matplotlib.pyplot as plt\n",
    "from matplotlib.colors import ListedColormap\n",
    "# get data in\n",
    "iris = ds.load_iris()\n",
    "x = iris.data[:,[2,3]]\n",
    "y = iris.target\n",
    "# separate training and test sets\n",
    "xtrain,xtest,ytrain,ytest = tts (x, y, test_size=0.3)#, random_state=0)\n",
    "# let's standardize everything based upon training set\n",
    "sc0 = sc ()\n",
    "sc0.fit (xtrain)\n",
    "xtr_std = sc0.transform (xtrain)\n",
    "xte_std = sc0.transform (xtest)"
   ]
  },
  {
   "cell_type": "code",
   "execution_count": 46,
   "metadata": {
    "scrolled": true
   },
   "outputs": [
    {
     "data": {
      "text/plain": [
       "numpy.ndarray"
      ]
     },
     "execution_count": 46,
     "metadata": {},
     "output_type": "execute_result"
    }
   ],
   "source": [
    "type(xtr_std)"
   ]
  },
  {
   "cell_type": "markdown",
   "metadata": {},
   "source": [
    "## 2. Train the model"
   ]
  },
  {
   "cell_type": "code",
   "execution_count": 47,
   "metadata": {},
   "outputs": [
    {
     "name": "stdout",
     "output_type": "stream",
     "text": [
      "accuracy:  0.977777777778\n"
     ]
    }
   ],
   "source": [
    "svc = SVC(C=100.0, kernel='linear')\n",
    "svc.fit(xtr_std,ytrain)\n",
    "ypd = svc.predict(xte_std)\n",
    "print (\"accuracy: \", svc.score(xte_std,ytest))"
   ]
  },
  {
   "cell_type": "markdown",
   "metadata": {},
   "source": [
    "## 3. Visualize the classifier"
   ]
  },
  {
   "cell_type": "code",
   "execution_count": 48,
   "metadata": {},
   "outputs": [
    {
     "data": {
      "image/png": "[encoded data removed]",
      "text/plain": [
       "<matplotlib.figure.Figure at 0x10bad8a20>"
      ]
     },
     "metadata": {},
     "output_type": "display_data"
    }
   ],
   "source": [
    "def plot_dc_bd (x, y, classifier, test_idx=None, num=200):\n",
    "    markers=('*','+','v','h','s')\n",
    "    colors=('magenta','DarkGreen','DarkCyan','blue','red')\n",
    "    cmp=ListedColormap(colors[:len(np.unique(y))])\n",
    "    xmin1,xmax1=x[:,0].min()-1.0,x[:,0].max()+1.0\n",
    "    xmin2,xmax2=x[:,1].min()-1.0,x[:,1].max()+1.0\n",
    "    [xx1,xx2]=np.meshgrid(np.linspace(xmin1,xmax1,num),\n",
    "                          np.linspace(xmin2,xmax2,num))\n",
    "    z0=classifier.predict (np.array([xx1.ravel(),xx2.ravel()]).T)\n",
    "    z=np.reshape(z0,\n",
    "                 np.shape(xx1))\n",
    "    plt.contourf(xx1,xx2,z,cmap=cmp,alpha=0.2)\n",
    "    plt.xlim(xx1.min(),xx1.max())\n",
    "    plt.ylim(xx2.min(),xx2.max())\n",
    "#     plt.scatter (x[:,0],x[:,1],marker='o',\n",
    "#                  label='Data',edgecolor='r',\n",
    "#                  facecolor='none',s=51)\n",
    "\n",
    "    for idx, val in enumerate(np.unique(y)):\n",
    "        plt.scatter(x[y==val,0],x[y==val,1],c=colors[idx],\n",
    "                    marker=markers[idx],label=str(val),s=33)\n",
    "        #print (\"id \",idx,\", val \",x[y==val,0])\n",
    "    plt.legend(loc=0)\n",
    "    plt.show()\n",
    "\n",
    "# now let's see the pic\n",
    "plot_dc_bd(np.concatenate((xtr_std,xte_std)),\n",
    "           np.concatenate((ytrain,ytest)),svc)"
   ]
  },
  {
   "cell_type": "code",
   "execution_count": null,
   "metadata": {
    "collapsed": true
   },
   "outputs": [],
   "source": []
  }
 ],
 "metadata": {
  "kernelspec": {
   "display_name": "Python 3",
   "language": "python",
   "name": "python3"
  },
  "language_info": {
   "codemirror_mode": {
    "name": "ipython",
    "version": 3
   },
   "file_extension": ".py",
   "mimetype": "text/x-python",
   "name": "python",
   "nbconvert_exporter": "python",
   "pygments_lexer": "ipython3",
   "version": "3.6.1"
  }
 },
 "nbformat": 4,
 "nbformat_minor": 2
}
