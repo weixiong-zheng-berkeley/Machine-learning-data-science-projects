{
 "cells": [
  {
   "cell_type": "markdown",
   "metadata": {},
   "source": [
    "# This file is to practice logistic regression for classification in scikit-learn.\n",
    "## 1. Import data and preprocess\n",
    "Many models can be imported from sklearn.linear_model, just remorize this."
   ]
  },
  {
   "cell_type": "code",
   "execution_count": 1,
   "metadata": {
    "collapsed": true
   },
   "outputs": [],
   "source": [
    "# load data we want to use from sklearn\n",
    "import sklearn.datasets as ds\n",
    "iris = ds.load_iris()\n",
    "x = iris.data[:,[2,3]]\n",
    "y = iris.target\n",
    "# Separate data to training and test\n",
    "from sklearn.model_selection import train_test_split as tts\n",
    "#from sklearn.linear_model.LogisticRgression import train_test_split as tts\n",
    "xtrain,xtest,ytrain,ytest=tts(x,y,test_size=0.3)\n",
    "# Standardize the data using sklearn.preprocessing\n",
    "from sklearn.preprocessing import StandardScaler as sc\n",
    "sc0 = sc()\n",
    "sc0.fit(xtrain)\n",
    "xtr_std=sc0.transform(xtrain)\n",
    "xte_std=sc0.transform(xtest)"
   ]
  },
  {
   "cell_type": "markdown",
   "metadata": {},
   "source": [
    "## 2. Import LR model"
   ]
  },
  {
   "cell_type": "code",
   "execution_count": 2,
   "metadata": {
    "collapsed": true
   },
   "outputs": [],
   "source": [
    "from sklearn.linear_model import LogisticRegression as lr\n",
    "# C is the inverse of the regularization parameter.\n",
    "lr0=lr(C=1000.0, random_state=None, solver='newton-cg');\n",
    "lr0.fit (xtr_std, ytrain)\n",
    "# predict on the test data\n",
    "ypd = lr0.predict (xte_std)"
   ]
  },
  {
   "cell_type": "markdown",
   "metadata": {},
   "source": [
    "## 3. Let's see how accurate this is\n",
    "sci-kit learn provides functionalities to measure the accuracy of the classfication results"
   ]
  },
  {
   "cell_type": "code",
   "execution_count": 3,
   "metadata": {},
   "outputs": [
    {
     "name": "stdout",
     "output_type": "stream",
     "text": [
      "accuracy is:  0.933333333333\n"
     ]
    }
   ],
   "source": [
    "#print (ytest)\n",
    "#help ('sklearn.linear_model.LogisticRegression.score')\n",
    "# old way to calculate the score\n",
    "#from sklearn.metrics import accuracy_score as acs\n",
    "#acc = acs (ytest, ypd)\n",
    "acc = lr0.score(xte_std,ytest)\n",
    "print (\"accuracy is: \", acc)"
   ]
  },
  {
   "cell_type": "markdown",
   "metadata": {},
   "source": [
    "## 4. Let's visualize"
   ]
  },
  {
   "cell_type": "code",
   "execution_count": 4,
   "metadata": {},
   "outputs": [
    {
     "data": {
      "image/png": "[encoded data removed]",
      "text/plain": [
       "<matplotlib.figure.Figure at 0x10a55ea20>"
      ]
     },
     "metadata": {},
     "output_type": "display_data"
    }
   ],
   "source": [
    "import numpy as np\n",
    "from matplotlib.colors import ListedColormap\n",
    "import matplotlib.pyplot as plt\n",
    "def plot_dc_bd (x, y, classifier, test_idx=None, num=200):\n",
    "    markers=('*','+','v','h','s')\n",
    "    colors=('magenta','DarkGreen','DarkCyan','blue','red')\n",
    "    cmp=ListedColormap(colors[:len(np.unique(y))])\n",
    "    xmin1,xmax1=x[:,0].min()-1.0,x[:,0].max()+1.0\n",
    "    xmin2,xmax2=x[:,1].min()-1.0,x[:,1].max()+1.0\n",
    "    [xx1,xx2]=np.meshgrid(np.linspace(xmin1,xmax1,num),\n",
    "                          np.linspace(xmin2,xmax2,num))\n",
    "    z0=classifier.predict (np.array([xx1.ravel(),xx2.ravel()]).T)\n",
    "    z=np.reshape(z0,\n",
    "                 np.shape(xx1))\n",
    "    plt.contourf(xx1,xx2,z,cmap=cmp,alpha=0.2)\n",
    "    plt.xlim(xx1.min(),xx1.max())\n",
    "    plt.ylim(xx2.min(),xx2.max())\n",
    "#     plt.scatter (x[:,0],x[:,1],marker='o',\n",
    "#                  label='Data',edgecolor='r',\n",
    "#                  facecolor='none',s=51)\n",
    "\n",
    "    for idx, val in enumerate(np.unique(y)):\n",
    "        plt.scatter(x[y==val,0],x[y==val,1],c=colors[idx],\n",
    "                    marker=markers[idx],label=str(val),s=33)\n",
    "        #print (\"id \",idx,\", val \",x[y==val,0])\n",
    "    plt.legend(loc=0)\n",
    "    plt.show()\n",
    "\n",
    "# now let's see the pic\n",
    "plot_dc_bd(np.concatenate((xtr_std,xte_std)),\n",
    "           np.concatenate((ytrain,ytest)),lr0)"
   ]
  },
  {
   "cell_type": "code",
   "execution_count": null,
   "metadata": {
    "collapsed": true
   },
   "outputs": [],
   "source": []
  }
 ],
 "metadata": {
  "kernelspec": {
   "display_name": "Python 3",
   "language": "python",
   "name": "python3"
  },
  "language_info": {
   "codemirror_mode": {
    "name": "ipython",
    "version": 3
   },
   "file_extension": ".py",
   "mimetype": "text/x-python",
   "name": "python",
   "nbconvert_exporter": "python",
   "pygments_lexer": "ipython3",
   "version": "3.6.1"
  }
 },
 "nbformat": 4,
 "nbformat_minor": 2
}
