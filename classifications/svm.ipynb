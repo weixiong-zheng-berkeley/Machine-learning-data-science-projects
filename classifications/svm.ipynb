{
 "cells": [
  {
   "cell_type": "markdown",
   "metadata": {},
   "source": [
    "# Support Vector Machine (SVM) on the same case"
   ]
  },
  {
   "cell_type": "markdown",
   "metadata": {},
   "source": [
    "## 1. Still import data and libraries"
   ]
  },
  {
   "cell_type": "code",
   "execution_count": 36,
   "metadata": {
    "collapsed": true
   },
   "outputs": [],
   "source": [
    "import numpy as np\n",
    "from sklearn.model_selection import train_test_split as tts\n",
    "# datasets\n",
    "import sklearn.datasets as ds\n",
    "# preprocessing modules\n",
    "from sklearn.preprocessing import StandardScaler as sc\n",
    "# SVM\n",
    "from sklearn.svm import SVC\n",
    "# Matplotlib\n",
    "import matplotlib.pyplot as plt\n",
    "import random\n",
    "from matplotlib.colors import ListedColormap\n",
    "from matplotlib import colors as mcolors\n",
    "# get data in\n",
    "iris = ds.load_iris()\n",
    "x = iris.data[:,[2,3]]\n",
    "y = iris.target\n",
    "# separate training and test sets\n",
    "xtrain,xtest,ytrain,ytest = tts (x, y, test_size=0.3, random_state=0)\n",
    "# let's standardize everything based upon training set\n",
    "sc0 = sc ()\n",
    "sc0.fit (xtrain)\n",
    "xtr_std = sc0.transform (xtrain)\n",
    "xte_std = sc0.transform (xtest)"
   ]
  },
  {
   "cell_type": "code",
   "execution_count": 37,
   "metadata": {
    "scrolled": true
   },
   "outputs": [
    {
     "data": {
      "text/plain": [
       "numpy.ndarray"
      ]
     },
     "execution_count": 37,
     "metadata": {},
     "output_type": "execute_result"
    }
   ],
   "source": [
    "type(xtr_std)"
   ]
  },
  {
   "cell_type": "markdown",
   "metadata": {},
   "source": [
    "## 2. Train the model"
   ]
  },
  {
   "cell_type": "code",
   "execution_count": 38,
   "metadata": {
    "scrolled": true
   },
   "outputs": [
    {
     "name": "stdout",
     "output_type": "stream",
     "text": [
      "accuracy:  0.977777777778\n"
     ]
    }
   ],
   "source": [
    "svc = SVC(C=100.0, kernel='linear')\n",
    "svc.fit(xtr_std,ytrain)\n",
    "ypd = svc.predict(xte_std)\n",
    "print (\"accuracy: \", svc.score(xte_std,ytest))"
   ]
  },
  {
   "cell_type": "markdown",
   "metadata": {},
   "source": [
    "## 3. Visualize the classifier"
   ]
  },
  {
   "cell_type": "code",
   "execution_count": 83,
   "metadata": {},
   "outputs": [
    {
     "name": "stdout",
     "output_type": "stream",
     "text": [
      "<class 'dict'>\n",
      "['#000080', '#4682B4', '#48D1CC']\n"
     ]
    },
    {
     "data": {
      "image/png": "[encoded data removed]",
      "text/plain": [
       "<matplotlib.figure.Figure at 0x10bbe3f60>"
      ]
     },
     "metadata": {},
     "output_type": "display_data"
    }
   ],
   "source": [
    "def plot_dc_bd (x, y, classifier, test_idx=None, num=200):\n",
    "    markers=('p','+','v','h','s')\n",
    "    max_classes = 100\n",
    "    colors1 = dict(mcolors.BASE_COLORS, **mcolors.CSS4_COLORS)\n",
    "    print (type (colors1))\n",
    "    by_hsv = sorted((tuple(mcolors.rgb_to_hsv(mcolors.to_rgba(color)[:3])), name)\n",
    "                    for name, color in colors1.items())\n",
    "    sorted_names = [name for hsv, name in by_hsv]\n",
    "    colors=[]\n",
    "    inds = np.random.randint(0,len(sorted_names)-1,len(np.unique(y)))\n",
    "    for i in range(0,len(np.unique(y))):\n",
    "        colors.append (colors1[sorted_names[inds[i]]])\n",
    "    print (colors)\n",
    "#     for ind,val in enumerate(sorted_names):\n",
    "#         colors.append (colors1[val])\n",
    "#     colors=('magenta','DarkGreen','DarkCyan','blue','red')\n",
    "    cmp=ListedColormap(colors[:len(np.unique(y))])\n",
    "    xmin1,xmax1=x[:,0].min()-1.0,x[:,0].max()+1.0\n",
    "    xmin2,xmax2=x[:,1].min()-1.0,x[:,1].max()+1.0\n",
    "    [xx1,xx2]=np.meshgrid(np.linspace(xmin1,xmax1,num),\n",
    "                          np.linspace(xmin2,xmax2,num))\n",
    "    z0=classifier.predict (np.array([xx1.ravel(),xx2.ravel()]).T)\n",
    "    z=np.reshape(z0,\n",
    "                 np.shape(xx1))\n",
    "    plt.contourf(xx1,xx2,z,cmap=cmp,alpha=0.3)\n",
    "    plt.xlim(xx1.min(),xx1.max())\n",
    "    plt.ylim(xx2.min(),xx2.max())\n",
    "#     plt.scatter (x[:,0],x[:,1],marker='o',\n",
    "#                  label='Data',edgecolor='r',\n",
    "#                  facecolor='none',s=51)\n",
    "\n",
    "    for idx, val in enumerate(np.unique(y)):\n",
    "        plt.scatter(x[y==val,0],x[y==val,1],c=colors[idx],\n",
    "                    marker=markers[idx],label=str(val),s=33)\n",
    "        #print (\"id \",idx,\", val \",x[y==val,0])\n",
    "    plt.legend(loc=0)\n",
    "    plt.show()\n",
    "\n",
    "# now let's see the pic\n",
    "plot_dc_bd(np.concatenate((xtr_std,xte_std)),\n",
    "           np.concatenate((ytrain,ytest)),svc)"
   ]
  },
  {
   "cell_type": "markdown",
   "metadata": {
    "collapsed": true
   },
   "source": [
    "## 4. How is the penalty affecting the results?\n",
    "There is no free lunch. Adding penalties, indeed, conquers the issue of high variance, but over-penalization could, on the other hand, brings the high bias issue. We will explore this."
   ]
  },
  {
   "cell_type": "code",
   "execution_count": 84,
   "metadata": {},
   "outputs": [
    {
     "data": {
      "image/png": "[encoded data removed]",
      "text/plain": [
       "<matplotlib.figure.Figure at 0x10bd474a8>"
      ]
     },
     "metadata": {},
     "output_type": "display_data"
    }
   ],
   "source": [
    "coefs, params, all_coef = [], [], [[],[]]\n",
    "classes = len(np.unique(y))\n",
    "sample_size = 100\n",
    "all_c = np.linspace (-5., 5., sample_size)\n",
    "all_coef = np.zeros ((2, classes, sample_size))\n",
    "\n",
    "for ind, val in np.ndenumerate (all_c):\n",
    "    svc0 = SVC (C=10.**val, kernel='linear', random_state=0)\n",
    "    params.append (10.**val)\n",
    "    svc0.fit (xtr_std, ytrain)\n",
    "    for i in range (0, classes):\n",
    "        for j in range(0, 2):\n",
    "            all_coef[j][i][ind[0]] = svc0.coef_[i][j]\n",
    "params = np.array (params)\n",
    "for i in range (0, 2):\n",
    "    for j in range (0, classes):\n",
    "        label='feature '+str(i) + ', class ' + str(j)\n",
    "        plt.plot (params, all_coef[i][j],label=label)\n",
    "        plt.xscale ('log')\n",
    "plt.legend(loc=0)\n",
    "plt.xlabel ('C')\n",
    "plt.ylabel ('coefficients')\n",
    "plt.show ()"
   ]
  }
 ],
 "metadata": {
  "kernelspec": {
   "display_name": "Python 3",
   "language": "python",
   "name": "python3"
  },
  "language_info": {
   "codemirror_mode": {
    "name": "ipython",
    "version": 3
   },
   "file_extension": ".py",
   "mimetype": "text/x-python",
   "name": "python",
   "nbconvert_exporter": "python",
   "pygments_lexer": "ipython3",
   "version": "3.6.1"
  }
 },
 "nbformat": 4,
 "nbformat_minor": 2
}
